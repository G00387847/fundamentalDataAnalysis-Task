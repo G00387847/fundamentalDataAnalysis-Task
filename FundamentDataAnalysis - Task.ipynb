{
 "cells": [
  {
   "cell_type": "markdown",
   "metadata": {},
   "source": [
    "# Fundamentals of Data Analysis - Task 2020\n",
    "\n",
    "***\n",
    "\n",
    "\n"
   ]
  },
  {
   "cell_type": "markdown",
   "metadata": {},
   "source": [
    "<br>\n",
    "My solution to the tasks assesment. The author is Bonny Chimezie Nwosu(G00387847@gmit.ie).\n",
    "\n",
    "***"
   ]
  },
  {
   "cell_type": "markdown",
   "metadata": {},
   "source": [
    "## Task 1 - Count\n",
    "\n",
    "***\n",
    "\n",
    "October 5th, 2020: Write a Python function called counts that takes a list as\n",
    "input and returns a dictionary of unique items in the list as keys and the number of\n",
    "times each item appears as values. So, the input ['A', 'A', 'B', 'C', 'A']\n",
    "should have output {'A': 3, 'B': 1, 'C': 1} . Your code should not depend\n",
    "on any module from the standard library1 or otherwise. You should research\n",
    "the task first and include a description with references of your algorithm in the\n",
    "notebook.\n"
   ]
  },
  {
   "cell_type": "markdown",
   "metadata": {},
   "source": [
    "## Task Overview and solution \n",
    "\n",
    "***\n",
    "Before I go into explaination of  the code,  I will first defined what is list and Dictionary\n",
    "\n",
    "List is a collection which is ordered and changeable while Dictionary is a collection which is unordered,changeable and indexed.\n",
    "\n",
    "The basis of the tasks is to use list as input and Dictionary as returns without the code depending on any module from the standard python library1 or otherwise.\n",
    "\n",
    "I started the code by first creating List,creating dictionary and loop the through the list and return the list in a dictionary.\n",
    "\n"
   ]
  },
  {
   "cell_type": "code",
   "execution_count": 8,
   "metadata": {},
   "outputs": [
    {
     "name": "stdout",
     "output_type": "stream",
     "text": [
      "{'A': 3, 'B': 1, 'C': 1}\n"
     ]
    }
   ],
   "source": [
    "#creat list\n",
    "list = ['A', 'A', 'B', 'C', 'A']\n",
    "# create dictionary\n",
    "dict = {}\n",
    "# loop through the list\n",
    "for i in list:\n",
    "    dict[i] = dict.get(i,0)+1 # using dict get method()  \n",
    "print(dict)\n"
   ]
  },
  {
   "cell_type": "markdown",
   "metadata": {},
   "source": [
    "# Refrences:\n",
    "\n",
    "\n",
    "- [Stack Overflow](https://stackoverflow.com/questions/5606421/python-letter-count-dict)\n",
    "\n",
    "- [Python function](http://openbookproject.net/)\n",
    "\n",
    "- [w3school.com](https://www.w3schools.com/python/python_lists.asp)\n",
    "\n",
    "- [w3school.com](https://www.w3schools.com/python/python_dictionaries.asp)         "
   ]
  },
  {
   "cell_type": "markdown",
   "metadata": {},
   "source": [
    "## Task 2 - Dicerolls\n",
    "\n",
    "***\n",
    "\n",
    "November 2nd, 2020: Write a Python function called dicerolls that simulates\n",
    "rolling dice. Your function should take two parameters: the number of dice k and\n",
    "the number of times to roll the dice n. The function should simulate randomly\n",
    "rolling k dice n times, keeping track of each total face value. It should then return\n",
    "a dictionary with the number of times each possible total face value occurred. So,\n",
    "calling the function as diceroll(k=2, n=1000) should return a dictionary like:\n",
    "{2:19,3:50,4:82,5:112,6:135,7:174,8:133,9:114,10:75,11:70,12:36}\n",
    "You can use any module from the Python standard library you wish and you should\n",
    "include a description with references of your algorithm in the notebook.\n",
    "\n",
    "### Overview and solution to Task - 2\n",
    "\n",
    "I will first define what a python function is before I explained the code.\n",
    "\n",
    "A function is a block of code which only runs when it is called. You can pass data, known as parameters, into a function. A function can return data as a result.\n",
    "\n",
    "I started writing the code by first importing a python library called numpy. A numpy is a python library used for working with arrays, it contains a multi-dimentional array and matrix data structure.\n",
    "\n",
    "I define my functions by declaring the data or arguments, loop through the range in the times(100), I use random.randint method to return the selected number range specified(2,12). I now pass the data to return the result."
   ]
  },
  {
   "cell_type": "code",
   "execution_count": 2,
   "metadata": {},
   "outputs": [
    {
     "data": {
      "text/plain": [
       "{2: 8, 3: 8, 4: 9, 5: 6, 6: 11, 7: 10, 8: 7, 9: 12, 10: 13, 11: 10, 12: 6}"
      ]
     },
     "execution_count": 2,
     "metadata": {},
     "output_type": "execute_result"
    }
   ],
   "source": [
    "# import python library called numpy\n",
    "import numpy as np\n",
    "\n",
    "#define function by declaring the data or arguments\n",
    "def roll_dice(rolls, sides):\n",
    "    k = 2\n",
    "    n =100\n",
    "    dice = {i:0 for i in range(2, 13)} # loop through the dice roll range \n",
    "   \n",
    "    # loop through the times \n",
    "    for n in range(rolls):\n",
    "        dice[np.random.randint(k, sides)] += 1 # method of returning the selected specified number range\n",
    "    return(dice) # return the selected specified number range\n",
    "\n",
    "roll_dice (100,  13) # passing the data or arguments\n"
   ]
  },
  {
   "cell_type": "markdown",
   "metadata": {},
   "source": [
    "## References:\n",
    "***\n",
    "- [stackoverflow](https://stackoverflow.com/questions/52705611/trying-to-find-how-often-a-dice-roll-result-occurs-in-a-list-of-randomly-rolled)\n",
    "- [https://www.reddit.com/r/learnpython/comments/55zdez/putting_outcomes_of_dice_roll_in_dictionary/]\n",
    "- [W3school](https://www.w3schools.com/python/python_functions.asp#:~:text=%E2%9D%AE%20Previous%20Next%20%E2%9D%AF,return%20data%20as%20a%20result.)"
   ]
  },
  {
   "cell_type": "markdown",
   "metadata": {},
   "source": [
    "##  Task 3 - Numpy.Random.Binomial\n",
    "\n",
    "***\n",
    "\n",
    "The numpy.random.binomial function can be used to\n",
    "simulate flipping a coin with a 50/50 chance of heads or tails. Interestingly, if a\n",
    "coin is flipped many times then the number of heads is well approximated by a\n",
    "bell-shaped curve. For instance, if we flip a coin 100 times in a row the chance of\n",
    "getting 50 heads is relatively high, the chances of getting 0 or 100 heads is relatively\n",
    "low, and the chances of getting any other number of heads decreases as you move\n",
    "away from 50 in either direction towards 0 or 100. Write some python code that\n",
    "simulates flipping a coin 100 times. Then run this code 1,000 times, keeping track\n",
    "of the number of heads in each of the 1,000 simulations. Select an appropriate\n",
    "plot to depict the resulting list of 1,000 numbers, showing that it roughly follows\n",
    "a bell-shaped curve. You should explain your work in a Markdown cell above the\n",
    "code."
   ]
  },
  {
   "cell_type": "markdown",
   "metadata": {},
   "source": [
    "## Task overview and soluton \n",
    "\n",
    "***\n",
    "numpy.random.binomial(n, p, size=None)\n",
    "\n",
    "Samples are drawn from a binomial distribution with specified parameters, n trials and p probability of success where n an integer >= 0 and p is in the interval [0,1]. (n may be input as a float, but it is truncated to an integer in use)\n",
    "\n",
    "I started writing the code by first, import standard python libraries called matplotlib for visualization of the result and numpy for working with arrays. I define the number of each probability trials, I use numpy.ramdom.biomial distribution method for the result of flipping the coin 100 times and tested it 1000 times and finally I use histogram plot to visualized the result.\n",
    "\n"
   ]
  },
  {
   "cell_type": "code",
   "execution_count": 10,
   "metadata": {},
   "outputs": [
    {
     "data": {
      "text/plain": [
       "(array([ 10.,  30., 100., 179., 210., 211., 162.,  60.,  28.,  10.]),\n",
       " array([35. , 38.1, 41.2, 44.3, 47.4, 50.5, 53.6, 56.7, 59.8, 62.9, 66. ]),\n",
       " <a list of 10 Patch objects>)"
      ]
     },
     "execution_count": 10,
     "metadata": {},
     "output_type": "execute_result"
    },
    {
     "data": {
      "image/png": "[encoded data removed]",
      "text/plain": [
       "<Figure size 432x288 with 1 Axes>"
      ]
     },
     "metadata": {
      "needs_background": "light"
     },
     "output_type": "display_data"
    }
   ],
   "source": [
    "# import libraries\n",
    "import matplotlib.pyplot as plt\n",
    "import numpy as np\n",
    "\n",
    "# number of each probability trials\n",
    "n, p = 100, .5\n",
    "\n",
    "# result of flippinga coin 100 time was tested 1000 time. \n",
    "s = np.random.binomial(n, p, 1000)\n",
    "s\n",
    "plt.hist(s) # using histogram plot to visualized the result"
   ]
  },
  {
   "cell_type": "markdown",
   "metadata": {},
   "source": [
    "## Reference:\n",
    "***\n",
    "[Numpy](https://numpy.org/doc/stable/reference/random/generated/numpy.random.binomial.html#numpy-random-binomial)\n",
    "\n",
    "[Utexas.edu](https://het.as.utexas.edu/HET/Software/Numpy/reference/generated/numpy.random.binomial.html)"
   ]
  },
  {
   "cell_type": "markdown",
   "metadata": {},
   "source": [
    "# Task 4 - Simpson's Paradox\n",
    "\n",
    "***\n",
    "\n",
    "Simpson’s paradox is a well-known statistical paradox\n",
    "where a trend evident in a number of groups reverses when the groups are combined\n",
    "into one big data set. Use numpy to create four data sets, each with an x array\n",
    "and a corresponding y array, to demonstrate Simpson’s paradox. You might\n",
    "create your x arrays using numpy.linspace and create the y array for each\n",
    "x using notation like y = a * x + b where you choose the a and b for each\n",
    "x , y pair to demonstrate the paradox. You might see the Wikipedia page for\n",
    "Simpson’s paradox for inspiration.\n"
   ]
  },
  {
   "cell_type": "markdown",
   "metadata": {},
   "source": [
    "# Overview and solution\n",
    "\n",
    "***\n",
    "Simpson's paradox, which also goes by several other names, is a phenomenon in probability and statistics, in which a trend appears in several different groups of data but disappears or reverses when these groups are combined. This result is often encountered in social-science and medical-science statistics[1][2][3] and is particularly problematic when frequency data is unduly given causal interpretations.[4] The paradox can be resolved when causal relations are appropriately addressed in the statistical modeling. https://en.wikipedia.org/wiki/Simpson%27s_paradox\n",
    "\n",
    "I started the code by importing the necessary libraries, like numpy, matplotlib. I created four dataset using numpy package, I pair each x and y by using plotted gragh to demonstarte the simpson's paradox\n"
   ]
  },
  {
   "cell_type": "code",
   "execution_count": 97,
   "metadata": {},
   "outputs": [],
   "source": [
    "# numerical array\n",
    "import numpy as np\n",
    "\n",
    "# plot library\n",
    "import matplotlib.pyplot as plt\n",
    "\n"
   ]
  },
  {
   "cell_type": "markdown",
   "metadata": {},
   "source": [
    "### create four data set"
   ]
  },
  {
   "cell_type": "code",
   "execution_count": 74,
   "metadata": {},
   "outputs": [
    {
     "data": {
      "text/plain": [
       "array([ 0.        ,  0.1010101 ,  0.2020202 ,  0.3030303 ,  0.4040404 ,\n",
       "        0.50505051,  0.60606061,  0.70707071,  0.80808081,  0.90909091,\n",
       "        1.01010101,  1.11111111,  1.21212121,  1.31313131,  1.41414141,\n",
       "        1.51515152,  1.61616162,  1.71717172,  1.81818182,  1.91919192,\n",
       "        2.02020202,  2.12121212,  2.22222222,  2.32323232,  2.42424242,\n",
       "        2.52525253,  2.62626263,  2.72727273,  2.82828283,  2.92929293,\n",
       "        3.03030303,  3.13131313,  3.23232323,  3.33333333,  3.43434343,\n",
       "        3.53535354,  3.63636364,  3.73737374,  3.83838384,  3.93939394,\n",
       "        4.04040404,  4.14141414,  4.24242424,  4.34343434,  4.44444444,\n",
       "        4.54545455,  4.64646465,  4.74747475,  4.84848485,  4.94949495,\n",
       "        5.05050505,  5.15151515,  5.25252525,  5.35353535,  5.45454545,\n",
       "        5.55555556,  5.65656566,  5.75757576,  5.85858586,  5.95959596,\n",
       "        6.06060606,  6.16161616,  6.26262626,  6.36363636,  6.46464646,\n",
       "        6.56565657,  6.66666667,  6.76767677,  6.86868687,  6.96969697,\n",
       "        7.07070707,  7.17171717,  7.27272727,  7.37373737,  7.47474747,\n",
       "        7.57575758,  7.67676768,  7.77777778,  7.87878788,  7.97979798,\n",
       "        8.08080808,  8.18181818,  8.28282828,  8.38383838,  8.48484848,\n",
       "        8.58585859,  8.68686869,  8.78787879,  8.88888889,  8.98989899,\n",
       "        9.09090909,  9.19191919,  9.29292929,  9.39393939,  9.49494949,\n",
       "        9.5959596 ,  9.6969697 ,  9.7979798 ,  9.8989899 , 10.        ])"
      ]
     },
     "execution_count": 74,
     "metadata": {},
     "output_type": "execute_result"
    }
   ],
   "source": [
    "# create four data sets with x and y values each\n",
    "x1 = np.linspace(0.0, 10,100)# x1 data set value\n",
    "x1"
   ]
  },
  {
   "cell_type": "code",
   "execution_count": 75,
   "metadata": {},
   "outputs": [
    {
     "data": {
      "text/plain": [
       "100"
      ]
     },
     "execution_count": 75,
     "metadata": {},
     "output_type": "execute_result"
    }
   ],
   "source": [
    "# check for the correct amount requested for\n",
    "len(x1)"
   ]
  },
  {
   "cell_type": "code",
   "execution_count": 76,
   "metadata": {},
   "outputs": [
    {
     "data": {
      "text/plain": [
       "array([ 3.63396802,  4.24107931,  4.55378077,  2.86423082,  3.24125006,\n",
       "        4.22993734,  5.82046219,  3.03463804,  2.84613133,  4.07800261,\n",
       "        3.34567428,  4.52978723,  6.08501373,  3.87713384,  6.19630443,\n",
       "        2.95732838,  3.92258588,  4.58591863,  4.27124885,  4.35280932,\n",
       "        4.08446129,  5.83412343,  5.48006954,  5.26275436,  5.89559581,\n",
       "        3.80403547,  6.75112942,  5.4777113 ,  5.82820233,  5.63710292,\n",
       "        4.71878875,  6.05721392,  6.32315734,  5.28793046,  6.78466703,\n",
       "        6.7540487 ,  5.5101439 ,  5.6801488 ,  8.35449552,  7.34064833,\n",
       "        6.74820632,  7.5897121 ,  6.52840253,  7.09896522,  6.32312995,\n",
       "        7.7683643 ,  8.55078581,  8.56261097,  7.92279522,  6.90589421,\n",
       "        8.56429175,  9.3479291 , 10.21962874,  7.71166758,  7.35742972,\n",
       "        8.80148724,  8.47465085,  8.67080943, 10.59798623, 10.88299383,\n",
       "        7.72330824,  7.667648  ,  8.87067758,  8.66191835,  9.73171538,\n",
       "       10.01580068,  7.23963751,  9.87022617,  9.88232068,  9.33025825,\n",
       "        8.99595986,  7.98823753, 11.58427913,  7.88066956, 11.44240809,\n",
       "       10.82017872, 11.43987963, 11.92189051, 11.08482348,  9.99791777,\n",
       "       11.65436503, 11.47556661, 11.78140308, 11.97784051, 10.36398431,\n",
       "       10.78132866, 11.50175185, 11.80107213, 11.31085512, 11.22630771,\n",
       "       11.64531062, 10.41087603, 12.05269606, 13.10933157, 14.33047228,\n",
       "       11.37955598, 12.65586149, 11.71930667, 12.4197891 , 14.4340473 ])"
      ]
     },
     "execution_count": 76,
     "metadata": {},
     "output_type": "execute_result"
    }
   ],
   "source": [
    "# create y array using notation y1 = a * x + b\n",
    "y1 = 1.0 * x1 + 3.0 + np.random.normal(0.0, 1.0, len(x)) # y1 dataset \n",
    "y1"
   ]
  },
  {
   "cell_type": "code",
   "execution_count": 77,
   "metadata": {},
   "outputs": [
    {
     "data": {
      "text/plain": [
       "100"
      ]
     },
     "execution_count": 77,
     "metadata": {},
     "output_type": "execute_result"
    }
   ],
   "source": [
    "#check for the correct amount requested for\n",
    "len(y1)"
   ]
  },
  {
   "cell_type": "code",
   "execution_count": 78,
   "metadata": {},
   "outputs": [
    {
     "data": {
      "text/plain": [
       "array([ 0.        ,  0.11235955,  0.2247191 ,  0.33707865,  0.4494382 ,\n",
       "        0.56179775,  0.6741573 ,  0.78651685,  0.8988764 ,  1.01123596,\n",
       "        1.12359551,  1.23595506,  1.34831461,  1.46067416,  1.57303371,\n",
       "        1.68539326,  1.79775281,  1.91011236,  2.02247191,  2.13483146,\n",
       "        2.24719101,  2.35955056,  2.47191011,  2.58426966,  2.69662921,\n",
       "        2.80898876,  2.92134831,  3.03370787,  3.14606742,  3.25842697,\n",
       "        3.37078652,  3.48314607,  3.59550562,  3.70786517,  3.82022472,\n",
       "        3.93258427,  4.04494382,  4.15730337,  4.26966292,  4.38202247,\n",
       "        4.49438202,  4.60674157,  4.71910112,  4.83146067,  4.94382022,\n",
       "        5.05617978,  5.16853933,  5.28089888,  5.39325843,  5.50561798,\n",
       "        5.61797753,  5.73033708,  5.84269663,  5.95505618,  6.06741573,\n",
       "        6.17977528,  6.29213483,  6.40449438,  6.51685393,  6.62921348,\n",
       "        6.74157303,  6.85393258,  6.96629213,  7.07865169,  7.19101124,\n",
       "        7.30337079,  7.41573034,  7.52808989,  7.64044944,  7.75280899,\n",
       "        7.86516854,  7.97752809,  8.08988764,  8.20224719,  8.31460674,\n",
       "        8.42696629,  8.53932584,  8.65168539,  8.76404494,  8.87640449,\n",
       "        8.98876404,  9.1011236 ,  9.21348315,  9.3258427 ,  9.43820225,\n",
       "        9.5505618 ,  9.66292135,  9.7752809 ,  9.88764045, 10.        ])"
      ]
     },
     "execution_count": 78,
     "metadata": {},
     "output_type": "execute_result"
    }
   ],
   "source": [
    "# x2 dataset value, using numpy.linspace to generate the array values\n",
    "x2 = np.linspace(0.0,10.0,90)\n",
    "x2"
   ]
  },
  {
   "cell_type": "code",
   "execution_count": 79,
   "metadata": {},
   "outputs": [
    {
     "data": {
      "text/plain": [
       "array([ 3.89282575,  4.97847428,  3.62743224,  5.34339505,  7.43117123,\n",
       "        5.4238554 ,  5.90726648,  5.09064084,  6.76883828,  5.37165271,\n",
       "        7.03957588,  6.42929443,  7.51817435,  6.96593537,  8.36570128,\n",
       "        9.07636481,  8.7755427 ,  7.68360702,  8.62806226,  8.43013093,\n",
       "        8.05931519, 10.30503486,  8.12285101,  9.68005812, 10.31613732,\n",
       "        8.85011109,  9.49710364,  8.48889853, 10.80902164,  9.17284799,\n",
       "        9.48609194, 10.21604288, 10.59615469, 10.55735682, 12.18307044,\n",
       "       12.03931148, 10.52755552, 11.88397147, 11.26579484, 13.72401283,\n",
       "       13.29700592, 13.7774483 , 12.70943903, 14.5608453 , 14.81147557,\n",
       "       12.95463873, 13.05582726, 13.81481708, 14.11001432, 13.18098432,\n",
       "       15.03476822, 15.56520692, 15.77405699, 15.1323243 , 16.24668541,\n",
       "       17.44536091, 15.21770515, 19.41624141, 15.39687632, 17.33612298,\n",
       "       17.87775414, 16.83255229, 19.08737681, 16.7656014 , 18.2869049 ,\n",
       "       16.49673068, 17.43629695, 20.61210752, 19.3672842 , 19.13741918,\n",
       "       19.8649335 , 19.62513053, 20.00423915, 20.39086556, 21.12901184,\n",
       "       18.62371224, 20.27252863, 21.63577772, 22.51242181, 21.4346786 ,\n",
       "       21.15427117, 23.40625162, 22.700063  , 22.39409628, 23.1938744 ,\n",
       "       22.49823786, 21.65045442, 22.99575963, 22.83021933, 24.10007328])"
      ]
     },
     "execution_count": 79,
     "metadata": {},
     "output_type": "execute_result"
    }
   ],
   "source": [
    "# y2 data set, using notation y2 = a * x2 + b\n",
    "y2 = 2.0 * x2 + 4.0 + np.random.normal(0.0, 1.0, len(x2))\n",
    "y2\n"
   ]
  },
  {
   "cell_type": "code",
   "execution_count": 70,
   "metadata": {},
   "outputs": [
    {
     "data": {
      "text/plain": [
       "array([ 0.        ,  0.12658228,  0.25316456,  0.37974684,  0.50632911,\n",
       "        0.63291139,  0.75949367,  0.88607595,  1.01265823,  1.13924051,\n",
       "        1.26582278,  1.39240506,  1.51898734,  1.64556962,  1.7721519 ,\n",
       "        1.89873418,  2.02531646,  2.15189873,  2.27848101,  2.40506329,\n",
       "        2.53164557,  2.65822785,  2.78481013,  2.91139241,  3.03797468,\n",
       "        3.16455696,  3.29113924,  3.41772152,  3.5443038 ,  3.67088608,\n",
       "        3.79746835,  3.92405063,  4.05063291,  4.17721519,  4.30379747,\n",
       "        4.43037975,  4.55696203,  4.6835443 ,  4.81012658,  4.93670886,\n",
       "        5.06329114,  5.18987342,  5.3164557 ,  5.44303797,  5.56962025,\n",
       "        5.69620253,  5.82278481,  5.94936709,  6.07594937,  6.20253165,\n",
       "        6.32911392,  6.4556962 ,  6.58227848,  6.70886076,  6.83544304,\n",
       "        6.96202532,  7.08860759,  7.21518987,  7.34177215,  7.46835443,\n",
       "        7.59493671,  7.72151899,  7.84810127,  7.97468354,  8.10126582,\n",
       "        8.2278481 ,  8.35443038,  8.48101266,  8.60759494,  8.73417722,\n",
       "        8.86075949,  8.98734177,  9.11392405,  9.24050633,  9.36708861,\n",
       "        9.49367089,  9.62025316,  9.74683544,  9.87341772, 10.        ])"
      ]
     },
     "execution_count": 70,
     "metadata": {},
     "output_type": "execute_result"
    }
   ],
   "source": [
    "# x3 data set value, using numpy.linspace to generate the array\n",
    "x3 = np.linspace(0.0, 10.0, 80)\n",
    "x3"
   ]
  },
  {
   "cell_type": "code",
   "execution_count": 71,
   "metadata": {},
   "outputs": [
    {
     "data": {
      "text/plain": [
       "80"
      ]
     },
     "execution_count": 71,
     "metadata": {},
     "output_type": "execute_result"
    }
   ],
   "source": [
    "len(x3)"
   ]
  },
  {
   "cell_type": "code",
   "execution_count": 72,
   "metadata": {},
   "outputs": [
    {
     "data": {
      "text/plain": [
       "array([ 5.77806788,  8.62044718,  9.07392447,  7.14418644,  8.40286525,\n",
       "        7.48247305,  9.12272782,  9.46006269,  9.29460264, 10.04545471,\n",
       "        9.62705466,  9.58602983, 10.62768262, 11.00744612, 11.39514277,\n",
       "       12.09491545, 12.43059444, 12.06021055, 11.53729888, 13.16775349,\n",
       "       14.72254152, 13.36236369, 14.41421802, 13.96338042, 15.18174324,\n",
       "       16.01513456, 15.99313133, 16.34915735, 16.0982942 , 16.69555843,\n",
       "       17.70479111, 16.94300252, 18.83531941, 18.82974935, 19.09323741,\n",
       "       17.89585085, 20.43438894, 18.31510123, 21.02754011, 18.60890739,\n",
       "       20.61577118, 21.57315731, 22.81562207, 22.75968259, 21.19105975,\n",
       "       21.81541429, 23.93020109, 24.14785255, 24.4509565 , 25.08025906,\n",
       "       24.40700201, 25.1482947 , 28.36703798, 26.38950481, 26.89725544,\n",
       "       28.29832866, 26.66253307, 25.14092593, 28.34580715, 28.91265069,\n",
       "       28.30398956, 29.56686068, 28.14012765, 29.24107044, 30.16185751,\n",
       "       31.671682  , 30.80076629, 30.32707837, 32.60157134, 32.52219469,\n",
       "       32.97110588, 34.78612161, 33.04653254, 32.57774705, 34.41852435,\n",
       "       35.69437315, 35.67626234, 33.52321511, 36.48284282, 37.95288983])"
      ]
     },
     "execution_count": 72,
     "metadata": {},
     "output_type": "execute_result"
    }
   ],
   "source": [
    "# y3 data set , using notation y3 = a * x + b to generate the array values\n",
    "y3 = 3.0 * x3 + 6.0 + np.random.normal(0.0, 1.0, len(x3))\n",
    "y3"
   ]
  },
  {
   "cell_type": "code",
   "execution_count": 87,
   "metadata": {},
   "outputs": [
    {
     "data": {
      "text/plain": [
       "array([ 0.        ,  0.16949153,  0.33898305,  0.50847458,  0.6779661 ,\n",
       "        0.84745763,  1.01694915,  1.18644068,  1.3559322 ,  1.52542373,\n",
       "        1.69491525,  1.86440678,  2.03389831,  2.20338983,  2.37288136,\n",
       "        2.54237288,  2.71186441,  2.88135593,  3.05084746,  3.22033898,\n",
       "        3.38983051,  3.55932203,  3.72881356,  3.89830508,  4.06779661,\n",
       "        4.23728814,  4.40677966,  4.57627119,  4.74576271,  4.91525424,\n",
       "        5.08474576,  5.25423729,  5.42372881,  5.59322034,  5.76271186,\n",
       "        5.93220339,  6.10169492,  6.27118644,  6.44067797,  6.61016949,\n",
       "        6.77966102,  6.94915254,  7.11864407,  7.28813559,  7.45762712,\n",
       "        7.62711864,  7.79661017,  7.96610169,  8.13559322,  8.30508475,\n",
       "        8.47457627,  8.6440678 ,  8.81355932,  8.98305085,  9.15254237,\n",
       "        9.3220339 ,  9.49152542,  9.66101695,  9.83050847, 10.        ])"
      ]
     },
     "execution_count": 87,
     "metadata": {},
     "output_type": "execute_result"
    }
   ],
   "source": [
    "# x4 dataset, using numpy.linspace to generate the array values\n",
    "x4 = np.linspace(0.0, 10.0, 60)\n",
    "x4"
   ]
  },
  {
   "cell_type": "code",
   "execution_count": 88,
   "metadata": {},
   "outputs": [
    {
     "data": {
      "text/plain": [
       "60"
      ]
     },
     "execution_count": 88,
     "metadata": {},
     "output_type": "execute_result"
    }
   ],
   "source": [
    "len(x4)"
   ]
  },
  {
   "cell_type": "code",
   "execution_count": 89,
   "metadata": {},
   "outputs": [
    {
     "data": {
      "text/plain": [
       "array([ 2.39538876,  1.66949137,  4.95417582,  5.40108693,  7.43599321,\n",
       "        7.46239019,  7.82267818,  9.2406587 ,  9.42584678, 10.76955423,\n",
       "        9.5863726 , 12.39565634, 12.40191187, 14.36883587, 13.97298761,\n",
       "       15.77961145, 15.80195624, 16.67623667, 16.61324367, 18.60011105,\n",
       "       19.97655495, 21.0887982 , 22.74784657, 21.93970103, 23.45699538,\n",
       "       25.21637567, 27.29000561, 25.3056351 , 28.87437199, 27.2933127 ,\n",
       "       26.81483312, 30.60510747, 29.38133204, 31.97467459, 34.41270454,\n",
       "       31.4076009 , 33.43231388, 33.03497189, 35.51605648, 37.15377885,\n",
       "       38.4459322 , 37.62919955, 37.59506176, 38.03992071, 41.29750026,\n",
       "       39.8389449 , 43.39014305, 43.36671644, 41.6189955 , 46.06366496,\n",
       "       46.61216792, 47.62400844, 46.88540947, 49.22681563, 48.40776288,\n",
       "       50.81584287, 49.62092105, 51.83572632, 51.2574937 , 52.33225099])"
      ]
     },
     "execution_count": 89,
     "metadata": {},
     "output_type": "execute_result"
    }
   ],
   "source": [
    "y4 = 5.0 *x4 + 3.0 + np.random.normal(0.0, 1.0, len(x4))\n",
    "y4\n"
   ]
  },
  {
   "cell_type": "code",
   "execution_count": 90,
   "metadata": {},
   "outputs": [
    {
     "data": {
      "text/plain": [
       "60"
      ]
     },
     "execution_count": 90,
     "metadata": {},
     "output_type": "execute_result"
    }
   ],
   "source": [
    "len(y4)"
   ]
  },
  {
   "cell_type": "markdown",
   "metadata": {},
   "source": [
    "###  Establishing individual x value and y values and using polyfit to fit each x and y values"
   ]
  },
  {
   "cell_type": "code",
   "execution_count": 82,
   "metadata": {},
   "outputs": [
    {
     "data": {
      "text/plain": [
       "array([0.96161357, 3.13536149])"
      ]
     },
     "execution_count": 82,
     "metadata": {},
     "output_type": "execute_result"
    }
   ],
   "source": [
    "coeffs1 = np.polyfit(x1, y1,1)\n",
    "coeffs1"
   ]
  },
  {
   "cell_type": "code",
   "execution_count": 83,
   "metadata": {},
   "outputs": [
    {
     "data": {
      "text/plain": [
       "array([1.9236299 , 4.28944112])"
      ]
     },
     "execution_count": 83,
     "metadata": {},
     "output_type": "execute_result"
    }
   ],
   "source": [
    "coeffs2 = np.polyfit(x2, y2, 1)\n",
    "coeffs2"
   ]
  },
  {
   "cell_type": "code",
   "execution_count": 84,
   "metadata": {},
   "outputs": [
    {
     "data": {
      "text/plain": [
       "array([2.9837729 , 6.15436652])"
      ]
     },
     "execution_count": 84,
     "metadata": {},
     "output_type": "execute_result"
    }
   ],
   "source": [
    "coeffs3 = np.polyfit(x3, y3, 1)\n",
    "coeffs3"
   ]
  },
  {
   "cell_type": "code",
   "execution_count": 91,
   "metadata": {},
   "outputs": [
    {
     "data": {
      "text/plain": [
       "array([5.06227656, 2.71531113])"
      ]
     },
     "execution_count": 91,
     "metadata": {},
     "output_type": "execute_result"
    }
   ],
   "source": [
    "coeffs4 = np.polyfit(x4, y4, 1)\n",
    "coeffs4"
   ]
  },
  {
   "cell_type": "code",
   "execution_count": 98,
   "metadata": {},
   "outputs": [
    {
     "data": {
      "image/png": "[encoded data removed]",
      "text/plain": [
       "<Figure size 1296x720 with 1 Axes>"
      ]
     },
     "metadata": {},
     "output_type": "display_data"
    }
   ],
   "source": [
    "# plot style\n",
    "plt.style.use(\"ggplot\")\n",
    "\n",
    "#  Bigger plots.\n",
    "plt.rcParams[\"figure.figsize\"] = (18,10)\n",
    "\n",
    "# plot all data set on one graph\n",
    "plt.plot(x1, y1, '.', label = \"Data set one\")\n",
    "plt.plot(x1, coeffs1[0] * x1 + coeffs1[1], '-', label = 'fit line one')\n",
    "plt.plot(x2, y2, '.', label = \"Data set Two\")\n",
    "plt.plot(x2, coeffs2[0] * x2 + coeffs2[1], '-', label = 'Fit line Two')\n",
    "plt.plot(x3, y3, '.', label = \"Data set Three\")\n",
    "plt.plot(x3, coeffs3[0] * x3 + coeffs3[1], '-', label = 'Fit line Three')\n",
    "plt.plot(x4, y4, ',', label = \"Data set Four\")\n",
    "plt.plot(x4, coeffs4[0] * x4 + coeffs4[1], '-', label = 'Fit line four')\n",
    "plt.legend();"
   ]
  },
  {
   "cell_type": "markdown",
   "metadata": {},
   "source": [
    "## Adding all x and y values together and combine all data sets  to demonstrate the paradox"
   ]
  },
  {
   "cell_type": "code",
   "execution_count": 122,
   "metadata": {},
   "outputs": [
    {
     "data": {
      "text/plain": [
       "array([2.47562975, 3.92403168])"
      ]
     },
     "execution_count": 122,
     "metadata": {},
     "output_type": "execute_result"
    }
   ],
   "source": [
    "import numpy as np\n",
    "\n",
    "# Defining x1, x2, x3, x4 value\n",
    "x1 = np.linspace(0.0, 10,100)\n",
    "x2 = np.linspace(0.0,10.0,90)\n",
    "x3 = np.linspace(0.0, 10.0, 80)\n",
    "x4 = np.linspace(0.0, 10.0, 60)\n",
    "\n",
    "# combining all the x data sets\n",
    "x = np.concatenate([x1, x2, x3, x4])\n",
    "\n",
    "# Defining y1, y2, y3, y4 values\n",
    "y1 = 1.0 * x1 + 3.0 + np.random.normal(0.0, 1.0, len(x1))\n",
    "y2 = 2.0 * x2 + 4.0 + np.random.normal(0.0, 1.0, len(x2))\n",
    "y3 = 3.0 * x3 + 6.0 + np.random.normal(0.0, 1.0, len(x3))\n",
    "y4 = 5.0 *x4 + 3.0 + np.random.normal(0.0, 1.0, len(x4))\n",
    "\n",
    "# combining all the x data sets\n",
    "y = np.concatenate([y1, y2, y3, y4])\n",
    "\n",
    "# combining x and y to fit a line\n",
    "coeffs = np.polyfit(x, y, 1)\n",
    "coeffs\n"
   ]
  },
  {
   "cell_type": "code",
   "execution_count": 121,
   "metadata": {},
   "outputs": [
    {
     "data": {
      "image/png": "[encoded data removed]",
      "text/plain": [
       "<Figure size 1296x720 with 1 Axes>"
      ]
     },
     "metadata": {},
     "output_type": "display_data"
    }
   ],
   "source": [
    "# plot style\n",
    "plt.style.use(\"ggplot\")\n",
    "\n",
    "#  Bigger plots.\n",
    "plt.rcParams[\"figure.figsize\"] = (18,10)\n",
    "\n",
    "# Defining s1, s2, s3, s4 values\n",
    "coeffs1 = np.polyfit(x1, y1,1)\n",
    "coeffs2 = np.polyfit(x2, y2, 1)\n",
    "coeffs3 = np.polyfit(x3, y3, 1)\n",
    "coeffs4 = np.polyfit(x4, y4, 1)\n",
    "\n",
    "# Investigating x and y relationship\n",
    "plt.plot(x1, y1, '.', label = \"Data set one\")\n",
    "plt.plot(x1, coeffs1[0] * x1 + coeffs1[1], '-', label = 'fit line one')\n",
    "plt.plot(x2, y2, '.', label = \"Data set Two\")\n",
    "plt.plot(x2, coeffs2[0] * x2 + coeffs2[1], '-', label = 'Fit line Two')\n",
    "plt.plot(x3, y3, '.', label = \"Data set Three\")\n",
    "plt.plot(x3, coeffs3[0] * x3 + coeffs3[1], '-', label = 'Fit line Three')\n",
    "plt.plot(x4, y4, ',', label = \"Data set Four\")\n",
    "plt.plot(x4, coeffs4[0] * x4 + coeffs4[1], '-', label = 'Fit line four')\n",
    "\n",
    "# plot x and y  label = combine \n",
    "plt.plot(x, coeffs[0] * x + coeffs[1], '-', label='Best fit combined')\n",
    "plt.legend();"
   ]
  },
  {
   "cell_type": "markdown",
   "metadata": {},
   "source": [
    "## conlusion\n",
    "\n",
    "When you add X and y individually, x4 is greater than y4 but when combine together, the y value is greater than x value showing different outcome of result"
   ]
  },
  {
   "cell_type": "markdown",
   "metadata": {},
   "source": [
    "## References:\n",
    "\n",
    "***\n",
    "ianmcloughlin /Jupyter-teaching-notebooks, https://github.com/ianmcloughlin/jupyter-teaching-notebooks/blob/master/fitting-lines.ipynb\n",
    "\n",
    "Wikipedia - Simpson's paradox, https://en.wikipedia.org/wiki/Simpson%27s_paradox\n",
    "\n",
    "numpy.linspace, https://numpy.org/doc/stable/reference/generated/numpy.linspace.html"
   ]
  },
  {
   "cell_type": "code",
   "execution_count": null,
   "metadata": {},
   "outputs": [],
   "source": []
  }
 ],
 "metadata": {
  "kernelspec": {
   "display_name": "Python 3",
   "language": "python",
   "name": "python3"
  },
  "language_info": {
   "codemirror_mode": {
    "name": "ipython",
    "version": 3
   },
   "file_extension": ".py",
   "mimetype": "text/x-python",
   "name": "python",
   "nbconvert_exporter": "python",
   "pygments_lexer": "ipython3",
   "version": "3.8.3"
  }
 },
 "nbformat": 4,
 "nbformat_minor": 4
}
