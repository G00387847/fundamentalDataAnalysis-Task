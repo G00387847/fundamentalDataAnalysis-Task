{
 "cells": [
  {
   "cell_type": "markdown",
   "metadata": {},
   "source": [
    "# Fundamentals of Data Analysis - Task 2020\n",
    "\n",
    "***\n",
    "\n",
    "\n"
   ]
  },
  {
   "cell_type": "markdown",
   "metadata": {},
   "source": [
    "<br>\n",
    "My solution to the tasks assesment. The author is Bonny Chimezie Nwosu(G00387847@gmit.ie).\n",
    "\n",
    "***"
   ]
  },
  {
   "cell_type": "markdown",
   "metadata": {},
   "source": [
    "## Task 1 - Count\n",
    "\n",
    "***\n",
    "\n",
    "October 5th, 2020: Write a Python function called counts that takes a list as\n",
    "input and returns a dictionary of unique items in the list as keys and the number of\n",
    "times each item appears as values. So, the input ['A', 'A', 'B', 'C', 'A']\n",
    "should have output {'A': 3, 'B': 1, 'C': 1} . Your code should not depend\n",
    "on any module from the standard library1 or otherwise. You should research\n",
    "the task first and include a description with references of your algorithm in the\n",
    "notebook.\n"
   ]
  },
  {
   "cell_type": "markdown",
   "metadata": {},
   "source": [
    "## Task Overview\n",
    "\n",
    "***\n",
    "Before I go into explaination of  the code,  I will first defined what is list and Dictionary\n",
    "\n",
    "List is a collection which is ordered and changeable while Dictionary is a collection which is unordered,changeable and indexed.\n",
    "\n",
    "The basis of the tasks is to use list as input and Dictionary as returns without the code depending on any module from the standard python library1 or otherwise.\n",
    "\n",
    "I started the code by first creating List,creating dictionary and loop the through the list and return the list in a dictionary.\n",
    "\n"
   ]
  },
  {
   "cell_type": "code",
   "execution_count": 8,
   "metadata": {},
   "outputs": [
    {
     "name": "stdout",
     "output_type": "stream",
     "text": [
      "{'A': 3, 'B': 1, 'C': 1}\n"
     ]
    }
   ],
   "source": [
    "#creat list\n",
    "list = ['A', 'A', 'B', 'C', 'A']\n",
    "# create dictionary\n",
    "dict = {}\n",
    "# loop through the list\n",
    "for i in list:\n",
    "    dict[i] = dict.get(i,0)+1\n",
    "print(dict)\n"
   ]
  },
  {
   "cell_type": "markdown",
   "metadata": {},
   "source": [
    "# Refrences:\n",
    "\n",
    "\n",
    "- [Stack Overflow](https://stackoverflow.com/questions/5606421/python-letter-count-dict)\n",
    "\n",
    "- [Python function](http://openbookproject.net/)\n",
    "\n",
    "- [w3school.com](https://www.w3schools.com/python/python_lists.asp)\n",
    "\n",
    "- [w3school.com](https://www.w3schools.com/python/python_dictionaries.asp)         "
   ]
  },
  {
   "cell_type": "markdown",
   "metadata": {},
   "source": [
    "## Task 2 - Dicerolls\n",
    "\n",
    "***\n",
    "\n",
    "November 2nd, 2020: Write a Python function called dicerolls that simulates\n",
    "rolling dice. Your function should take two parameters: the number of dice k and\n",
    "the number of times to roll the dice n. The function should simulate randomly\n",
    "rolling k dice n times, keeping track of each total face value. It should then return\n",
    "a dictionary with the number of times each possible total face value occurred. So,\n",
    "calling the function as diceroll(k=2, n=1000) should return a dictionary like:\n",
    "{2:19,3:50,4:82,5:112,6:135,7:174,8:133,9:114,10:75,11:70,12:36}\n",
    "You can use any module from the Python standard library you wish and you should\n",
    "include a description with references of your algorithm in the notebook.\n",
    "\n",
    "### Overview and solution to Task - 2\n",
    "\n",
    "I will first define what a python function is before I explained the code.\n",
    "\n",
    "A function is a block of code which only runs when it is called. You can pass data, known as parameters, into a function. A function can return data as a result.\n",
    "\n",
    "I started writing the code by first importing a python library called numpy. A numpy is a python library used for working with arrays, it contains a multi-dimentional array and matrix data structure.\n",
    "\n",
    "I define my functions by declaring the data or arguments, loop through the range in the times(100), I use random.randint method to return the selected number range specified(2,12). I now pass the data to return the result."
   ]
  },
  {
   "cell_type": "code",
   "execution_count": 3,
   "metadata": {},
   "outputs": [
    {
     "data": {
      "text/plain": [
       "{2: 6, 3: 9, 4: 6, 5: 4, 6: 9, 7: 9, 8: 15, 9: 10, 10: 9, 11: 12, 12: 11}"
      ]
     },
     "execution_count": 3,
     "metadata": {},
     "output_type": "execute_result"
    }
   ],
   "source": [
    "# import python library called numpy\n",
    "import numpy as np\n",
    "\n",
    "#define function by declaring the data or arguments\n",
    "def roll_dice(rolls, sides):\n",
    "    k = 2\n",
    "    n =100\n",
    "    dice = {i:0 for i in range(2, 13)} # loop through the dice roll range \n",
    "   \n",
    "    # loop through the times \n",
    "    for n in range(rolls):\n",
    "        dice[np.random.randint(k, sides)] += 1 # method of returning the selected specified number range\n",
    "    return(dice) # return the selected specified number range\n",
    "\n",
    "roll_dice (100,  13) # passing the data or arguments\n"
   ]
  },
  {
   "cell_type": "markdown",
   "metadata": {},
   "source": [
    "## References:\n",
    "***\n",
    "- [stackoverflow](https://stackoverflow.com/questions/52705611/trying-to-find-how-often-a-dice-roll-result-occurs-in-a-list-of-randomly-rolled)\n",
    "- [https://www.reddit.com/r/learnpython/comments/55zdez/putting_outcomes_of_dice_roll_in_dictionary/]\n",
    "- [W3school](https://www.w3schools.com/python/python_functions.asp#:~:text=%E2%9D%AE%20Previous%20Next%20%E2%9D%AF,return%20data%20as%20a%20result.)"
   ]
  },
  {
   "cell_type": "markdown",
   "metadata": {},
   "source": [
    "##  Task 3 - Numpy.Random.Binomial\n",
    "\n",
    "***\n",
    "\n",
    "The numpy.random.binomial function can be used to\n",
    "simulate flipping a coin with a 50/50 chance of heads or tails. Interestingly, if a\n",
    "coin is flipped many times then the number of heads is well approximated by a\n",
    "bell-shaped curve. For instance, if we flip a coin 100 times in a row the chance of\n",
    "getting 50 heads is relatively high, the chances of getting 0 or 100 heads is relatively\n",
    "low, and the chances of getting any other number of heads decreases as you move\n",
    "away from 50 in either direction towards 0 or 100. Write some python code that\n",
    "simulates flipping a coin 100 times. Then run this code 1,000 times, keeping track\n",
    "of the number of heads in each of the 1,000 simulations. Select an appropriate\n",
    "plot to depict the resulting list of 1,000 numbers, showing that it roughly follows\n",
    "a bell-shaped curve. You should explain your work in a Markdown cell above the\n",
    "code."
   ]
  },
  {
   "cell_type": "markdown",
   "metadata": {},
   "source": [
    "## Task overview soluton to Task-2\n",
    "\n",
    "***\n",
    "numpy.random.binomial(n, p, size=None)\n",
    "\n",
    "Samples are drawn from a binomial distribution with specified parameters, n trials and p probability of success where n an integer >= 0 and p is in the interval [0,1]. (n may be input as a float, but it is truncated to an integer in use)\n",
    "\n",
    "I started writing the code by first, import standard python libraries called matplotlib for visualization of the result and numpy for working with arrays. I define the number of each probability trials, I use numpy.ramdom.biomial distribution method for the result of flipping the coin 100 times and tested it 1000 times and finally I use histogram plot to visualized the result.\n",
    "\n"
   ]
  },
  {
   "cell_type": "code",
   "execution_count": 10,
   "metadata": {},
   "outputs": [
    {
     "data": {
      "text/plain": [
       "(array([ 10.,  30., 100., 179., 210., 211., 162.,  60.,  28.,  10.]),\n",
       " array([35. , 38.1, 41.2, 44.3, 47.4, 50.5, 53.6, 56.7, 59.8, 62.9, 66. ]),\n",
       " <a list of 10 Patch objects>)"
      ]
     },
     "execution_count": 10,
     "metadata": {},
     "output_type": "execute_result"
    },
    {
     "data": {
      "image/png": "[encoded data removed]",
      "text/plain": [
       "<Figure size 432x288 with 1 Axes>"
      ]
     },
     "metadata": {
      "needs_background": "light"
     },
     "output_type": "display_data"
    }
   ],
   "source": [
    "# import libraries\n",
    "import matplotlib.pyplot as plt\n",
    "import numpy as np\n",
    "\n",
    "# number of each probability trials\n",
    "n, p = 100, .5\n",
    "\n",
    "# result of flippinga coin 100 time was tested 1000 time. \n",
    "s = np.random.binomial(n, p, 1000)\n",
    "s\n",
    "plt.hist(s) # using histogram plot to visualized the result"
   ]
  },
  {
   "cell_type": "markdown",
   "metadata": {},
   "source": [
    "## Reference:\n",
    "***\n",
    "[Numpy](https://numpy.org/doc/stable/reference/random/generated/numpy.random.binomial.html#numpy-random-binomial)\n",
    "\n",
    "[Utexas.edu](https://het.as.utexas.edu/HET/Software/Numpy/reference/generated/numpy.random.binomial.html)"
   ]
  },
  {
   "cell_type": "code",
   "execution_count": null,
   "metadata": {},
   "outputs": [],
   "source": []
  }
 ],
 "metadata": {
  "kernelspec": {
   "display_name": "Python 3",
   "language": "python",
   "name": "python3"
  },
  "language_info": {
   "codemirror_mode": {
    "name": "ipython",
    "version": 3
   },
   "file_extension": ".py",
   "mimetype": "text/x-python",
   "name": "python",
   "nbconvert_exporter": "python",
   "pygments_lexer": "ipython3",
   "version": "3.8.3"
  }
 },
 "nbformat": 4,
 "nbformat_minor": 4
}
