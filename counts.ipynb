{
 "cells": [
  {
   "cell_type": "markdown",
   "metadata": {},
   "source": [
    "# Fundamentals of Data Analysis - Task 2020\n",
    "\n",
    "***\n",
    "\n",
    "\n"
   ]
  },
  {
   "cell_type": "markdown",
   "metadata": {},
   "source": [
    "<br>\n",
    "The followings are my solution to my task assesment. The author is Bonny Chimezie Nwosu(G00387847@gmit.ie).\n",
    "\n",
    "***"
   ]
  },
  {
   "cell_type": "markdown",
   "metadata": {},
   "source": [
    "## Task 1\n",
    "\n",
    "***\n",
    "\n",
    "October 5th, 2020: Write a Python function called counts that takes a list as\n",
    "input and returns a dictionary of unique items in the list as keys and the number of\n",
    "times each item appears as values. So, the input ['A', 'A', 'B', 'C', 'A']\n",
    "should have output {'A': 3, 'B': 1, 'C': 1} . Your code should not depend\n",
    "on any module from the standard library1 or otherwise. You should research\n",
    "the task first and include a description with references of your algorithm in the\n",
    "notebook.\n"
   ]
  },
  {
   "cell_type": "markdown",
   "metadata": {},
   "source": [
    "## Task Overview\n",
    "\n",
    "***\n",
    "The basis of the tasks is to use list as input and Dictionary as returns.\n",
    "\n",
    "List a a collection which is ordered and changeable while Dictionary is a collection which is unordered,changeable and indexed."
   ]
  },
  {
   "cell_type": "code",
   "execution_count": 2,
   "metadata": {},
   "outputs": [
    {
     "name": "stdout",
     "output_type": "stream",
     "text": [
      "['C', 'D', 'E']\n"
     ]
    }
   ],
   "source": [
    "# Example of list\n",
    "list = [\"A\", \"B\", \"C\", \"D\", \"E\", \"F\", \"G\"]\n",
    "print(list[2:5])"
   ]
  },
  {
   "cell_type": "code",
   "execution_count": 10,
   "metadata": {},
   "outputs": [
    {
     "name": "stdout",
     "output_type": "stream",
     "text": [
      "1\n",
      "2\n",
      "3\n",
      "4\n",
      "5\n"
     ]
    }
   ],
   "source": [
    "# Example of dictionary\n",
    "dict =\t{\"A\":\"1\",\"B\":\"2\",\"C\":\"3\",\"D\":\"4\",\"E\":\"5\"}\n",
    "  \n",
    "for i in dict.values():\n",
    "  print(i)\n"
   ]
  },
  {
   "cell_type": "code",
   "execution_count": 7,
   "metadata": {},
   "outputs": [
    {
     "name": "stdout",
     "output_type": "stream",
     "text": [
      "{'A': 3, 'B': 1, 'C': 1}\n"
     ]
    }
   ],
   "source": [
    "list = ['A', 'A', 'B', 'C', 'A']\n",
    "dict = {}\n",
    "for i in list:\n",
    "    dict[i] = dict.get(i,0)+1\n",
    "print(dict)\n"
   ]
  },
  {
   "cell_type": "markdown",
   "metadata": {},
   "source": [
    "# Refrences:\n",
    "\n",
    "\n",
    "(i) Stack Overflow [https://stackoverflow.com/questions/5606421/python-letter-count-dict]\n",
    "\n",
    "(ii) Python function [http://openbookproject.net/]\n",
    "\n",
    "(iii)w3school.com [https://www.w3schools.com/python/python_lists.asp]\n",
    "\n",
    "(iv)w3school.com [https://www.w3schools.com/python/python_dictionaries.asp]         "
   ]
  },
  {
   "cell_type": "code",
   "execution_count": null,
   "metadata": {},
   "outputs": [],
   "source": []
  }
 ],
 "metadata": {
  "kernelspec": {
   "display_name": "Python 3",
   "language": "python",
   "name": "python3"
  },
  "language_info": {
   "codemirror_mode": {
    "name": "ipython",
    "version": 3
   },
   "file_extension": ".py",
   "mimetype": "text/x-python",
   "name": "python",
   "nbconvert_exporter": "python",
   "pygments_lexer": "ipython3",
   "version": "3.8.3"
  }
 },
 "nbformat": 4,
 "nbformat_minor": 4
}
